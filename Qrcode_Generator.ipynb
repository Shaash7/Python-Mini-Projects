{
  "nbformat": 4,
  "nbformat_minor": 0,
  "metadata": {
    "colab": {
      "name": "Qrcode_Generator",
      "provenance": [],
      "collapsed_sections": [],
      "authorship_tag": "ABX9TyPz6RNyNSckMVacQzfA0Lha",
      "include_colab_link": true
    },
    "kernelspec": {
      "name": "python3",
      "display_name": "Python 3"
    }
  },
  "cells": [
    {
      "cell_type": "markdown",
      "metadata": {
        "id": "view-in-github",
        "colab_type": "text"
      },
      "source": [
        "<a href=\"https://colab.research.google.com/github/Shaash7/Python-Mini-Projects/blob/master/Qrcode_Generator.ipynb\" target=\"_parent\"><img src=\"https://colab.research.google.com/assets/colab-badge.svg\" alt=\"Open In Colab\"/></a>"
      ]
    },
    {
      "cell_type": "code",
      "metadata": {
        "id": "rbdmHMXzdu0a",
        "colab_type": "code",
        "colab": {
          "base_uri": "https://localhost:8080/",
          "height": 125
        },
        "outputId": "ee48c651-55ab-4fb8-f16a-09b09654952c"
      },
      "source": [
        "!pip install qrcode"
      ],
      "execution_count": null,
      "outputs": [
        {
          "output_type": "stream",
          "text": [
            "Collecting qrcode\n",
            "  Downloading https://files.pythonhosted.org/packages/42/87/4a3a77e59ab7493d64da1f69bf1c2e899a4cf81e51b2baa855e8cc8115be/qrcode-6.1-py2.py3-none-any.whl\n",
            "Requirement already satisfied: six in /usr/local/lib/python3.6/dist-packages (from qrcode) (1.12.0)\n",
            "Installing collected packages: qrcode\n",
            "Successfully installed qrcode-6.1\n"
          ],
          "name": "stdout"
        }
      ]
    },
    {
      "cell_type": "code",
      "metadata": {
        "id": "pCAczC3KeSaP",
        "colab_type": "code",
        "colab": {}
      },
      "source": [
        "import qrcode"
      ],
      "execution_count": null,
      "outputs": []
    },
    {
      "cell_type": "code",
      "metadata": {
        "id": "uNmRj1J1eaog",
        "colab_type": "code",
        "colab": {}
      },
      "source": [
        "qr=qrcode.QRCode( version=1,\n",
        "                 box_size=10,\n",
        "                 border=5\n",
        "    )"
      ],
      "execution_count": null,
      "outputs": []
    },
    {
      "cell_type": "code",
      "metadata": {
        "id": "0oefJA-le1kU",
        "colab_type": "code",
        "colab": {}
      },
      "source": [
        "data=\"Welcome_/\\_ _/\\_ Namaskara\"\n"
      ],
      "execution_count": null,
      "outputs": []
    },
    {
      "cell_type": "code",
      "metadata": {
        "id": "SJ0Bp5NffFPs",
        "colab_type": "code",
        "colab": {}
      },
      "source": [
        "qr.add_data(data)\n",
        "qr.make(fit=True)\n"
      ],
      "execution_count": null,
      "outputs": []
    },
    {
      "cell_type": "code",
      "metadata": {
        "id": "k83yS9nEfYc6",
        "colab_type": "code",
        "colab": {}
      },
      "source": [
        "img=qr.make_image(fill=\"black\", back_color=\"white\")"
      ],
      "execution_count": null,
      "outputs": []
    },
    {
      "cell_type": "code",
      "metadata": {
        "id": "OzNHzIxPfwlf",
        "colab_type": "code",
        "colab": {}
      },
      "source": [
        "img.save(\"hello.png\")"
      ],
      "execution_count": null,
      "outputs": []
    }
  ]
}